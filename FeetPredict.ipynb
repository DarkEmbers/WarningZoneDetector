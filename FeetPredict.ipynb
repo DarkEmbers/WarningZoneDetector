{
 "cells": [
  {
   "cell_type": "code",
   "execution_count": 37,
   "metadata": {},
   "outputs": [],
   "source": [
    "import torch\n",
    "from torch import nn\n",
    "from torch.utils.data import Dataset, DataLoader, random_split\n",
    "import numpy as np\n",
    "from pathlib import Path\n",
    "import json\n",
    "from tqdm import tqdm\n",
    "from sklearn.linear_model import LinearRegression, HuberRegressor\n",
    "from sklearn.metrics import root_mean_squared_error\n",
    "import joblib\n",
    "import seaborn as sns"
   ]
  },
  {
   "cell_type": "code",
   "execution_count": 3,
   "metadata": {},
   "outputs": [],
   "source": [
    "# Load annotations for training\n",
    "train_ann_path = Path('./Data/coco2017/annotations/person_keypoints_train2017.json')\n",
    "with open(train_ann_path, 'r') as f:\n",
    "\tdata = json.load(f)\n",
    "\n",
    "# Only keep keypoint annotations\n",
    "annotations = data['annotations']"
   ]
  },
  {
   "cell_type": "code",
   "execution_count": 4,
   "metadata": {},
   "outputs": [
    {
     "data": {
      "text/plain": [
       "torch.Size([262465, 17, 3])"
      ]
     },
     "execution_count": 4,
     "metadata": {},
     "output_type": "execute_result"
    }
   ],
   "source": [
    "keypoints = []\n",
    "for i in range(len(annotations)):\n",
    "\timg_keypoints = annotations[i][\"keypoints\"] # Keypoints for 1 image\n",
    "\n",
    "\t# Each person has 17 keypoints, 3 values for each\n",
    "\t# (x, y, visibility_flag)\n",
    "\tkeypoints.append([])\n",
    "\tfor j in range(0, len(img_keypoints), 3):\n",
    "\t\tkeypoints[i].append(img_keypoints[j:j+3])\n",
    "\n",
    "torch.tensor(keypoints).shape"
   ]
  },
  {
   "cell_type": "code",
   "execution_count": 5,
   "metadata": {},
   "outputs": [
    {
     "name": "stderr",
     "output_type": "stream",
     "text": [
      "C:\\Users\\tshar\\AppData\\Local\\Temp\\ipykernel_19916\\1065122196.py:22: UserWarning: Creating a tensor from a list of numpy.ndarrays is extremely slow. Please consider converting the list to a single numpy.ndarray with numpy.array() before converting to a tensor. (Triggered internally at C:\\actions-runner\\_work\\pytorch\\pytorch\\builder\\windows\\pytorch\\torch\\csrc\\utils\\tensor_new.cpp:281.)\n",
      "  torch.tensor(train_inputs).shape, torch.tensor(train_targets).shape\n"
     ]
    },
    {
     "data": {
      "text/plain": [
       "(torch.Size([61720, 4, 3]), torch.Size([61720, 2, 3]))"
      ]
     },
     "execution_count": 5,
     "metadata": {},
     "output_type": "execute_result"
    }
   ],
   "source": [
    "train_inputs = []\n",
    "train_targets = []\n",
    "\n",
    "# Only keep shoulders, hips, and feet\n",
    "# Indices for inputs\n",
    "input_indices = [5, 6, 11, 12] # Left Shoulder, Right Shoulder, Left Hip, Right Hip\n",
    "# Indices for targets\n",
    "target_indices = [15, 16] # Left Foot (Ankle), Right Foot (Ankle)\n",
    "\n",
    "for i in range(len(keypoints)):\n",
    "\tpoints = np.array(keypoints[i])[input_indices]\n",
    "\tif points[0][2] == 0 or points[1][2] == 0 or points[2][2] == 0 or points[3][2] == 0:\n",
    "\t\tcontinue\n",
    "\n",
    "\tlabel = np.array(keypoints[i])[target_indices]\n",
    "\tif label[0][2] == 0 or label[1][2] == 0:\n",
    "\t\tcontinue\n",
    "\n",
    "\ttrain_inputs.append(points)\n",
    "\ttrain_targets.append(label)\n",
    "\n",
    "torch.tensor(train_inputs).shape, torch.tensor(train_targets).shape"
   ]
  },
  {
   "cell_type": "code",
   "execution_count": 6,
   "metadata": {},
   "outputs": [
    {
     "data": {
      "text/plain": [
       "(array([[198, 193,   2],\n",
       "        [243, 196,   2],\n",
       "        [197, 298,   2],\n",
       "        [228, 297,   2]]),\n",
       " array([[205, 475,   2],\n",
       "        [215, 453,   2]]))"
      ]
     },
     "execution_count": 6,
     "metadata": {},
     "output_type": "execute_result"
    }
   ],
   "source": [
    "train_inputs[0], train_targets[0]"
   ]
  },
  {
   "cell_type": "code",
   "execution_count": 7,
   "metadata": {},
   "outputs": [
    {
     "data": {
      "text/plain": [
       "(torch.Size([61720, 4, 3]), torch.Size([61720, 2, 3]))"
      ]
     },
     "execution_count": 7,
     "metadata": {},
     "output_type": "execute_result"
    }
   ],
   "source": [
    "# Load keypoints for testing\n",
    "test_ann_path = Path('./Data/coco2017/annotations/person_keypoints_val2017.json')\n",
    "with open(test_ann_path, 'r') as f:\n",
    "\tdata = json.load(f)\n",
    "\n",
    "test_annotations = data['annotations']\n",
    "keypoints = []\n",
    "for i in range(len(annotations)):\n",
    "\timg_keypoints = annotations[i][\"keypoints\"] # Keypoints for 1 image\n",
    "\n",
    "\t# Each person has 17 keypoints, 3 values for each\n",
    "\t# (x, y, visibility_flag)\n",
    "\tkeypoints.append([])\n",
    "\tfor j in range(0, len(img_keypoints), 3):\n",
    "\t\tkeypoints[i].append(img_keypoints[j:j+3])\n",
    "\n",
    "test_inputs = []\n",
    "test_targets = []\n",
    "\n",
    "# Only keep shoulders, hips, and feet\n",
    "# Indices for inputs\n",
    "input_indices = [5, 6, 11, 12] # Left Shoulder, Right Shoulder, Left Hip, Right Hip\n",
    "# Indices for targets\n",
    "target_indices = [15, 16] # Left Foot (Ankle), Right Foot (Ankle)\n",
    "\n",
    "for i in range(len(keypoints)):\n",
    "\tpoints = np.array(keypoints[i])[input_indices]\n",
    "\tif points[0][2] == 0 or points[1][2] == 0 or points[2][2] == 0 or points[3][2] == 0:\n",
    "\t\tcontinue\n",
    "\n",
    "\tlabel = np.array(keypoints[i])[target_indices]\n",
    "\tif label[0][2] == 0 or label[1][2] == 0:\n",
    "\t\tcontinue\n",
    "\n",
    "\ttest_inputs.append(points)\n",
    "\ttest_targets.append(label)\n",
    "\n",
    "torch.tensor(test_inputs).shape, torch.tensor(test_targets).shape"
   ]
  },
  {
   "cell_type": "code",
   "execution_count": 8,
   "metadata": {},
   "outputs": [
    {
     "data": {
      "text/plain": [
       "(array([[198, 193,   2],\n",
       "        [243, 196,   2],\n",
       "        [197, 298,   2],\n",
       "        [228, 297,   2]]),\n",
       " array([[205, 475,   2],\n",
       "        [215, 453,   2]]))"
      ]
     },
     "execution_count": 8,
     "metadata": {},
     "output_type": "execute_result"
    }
   ],
   "source": [
    "test_inputs[0], test_targets[0]"
   ]
  },
  {
   "cell_type": "code",
   "execution_count": 9,
   "metadata": {},
   "outputs": [],
   "source": [
    "# Dataset\n",
    "class CocoKeypoints(Dataset):\n",
    "\tdef __init__(self, inputs, labels):\n",
    "\t\tsuper(CocoKeypoints, self).__init__()\n",
    "\t\tself.inputs = torch.tensor(inputs, dtype=torch.float32)\n",
    "\t\tself.labels = torch.tensor(labels, dtype=torch.float32)\n",
    "\n",
    "\tdef __len__(self):\n",
    "\t\treturn len(self.labels)\n",
    "\n",
    "\tdef __getitem__(self, index):\n",
    "\t\t# Remove visibility from keypoints\n",
    "\t\treturn self.inputs[index].T[:2].T.flatten(), self.labels[index].T[:2].T.flatten()"
   ]
  },
  {
   "cell_type": "code",
   "execution_count": 10,
   "metadata": {},
   "outputs": [],
   "source": [
    "BATCH_SIZE = 8\n",
    "NUM_WORKERS = 0\n",
    "\n",
    "# Data loader\n",
    "train = CocoKeypoints(train_inputs, train_targets)\n",
    "test = CocoKeypoints(test_inputs, test_targets)\n",
    "\n",
    "train_loader = DataLoader(train, batch_size=BATCH_SIZE,\n",
    "                          shuffle=True, num_workers=NUM_WORKERS)\n",
    "test_loader = DataLoader(test, batch_size=BATCH_SIZE,\n",
    "                         shuffle=True, num_workers=NUM_WORKERS)"
   ]
  },
  {
   "cell_type": "code",
   "execution_count": 11,
   "metadata": {},
   "outputs": [
    {
     "data": {
      "text/plain": [
       "(tensor([198., 193., 243., 196., 197., 298., 228., 297.]),\n",
       " tensor([205., 475., 215., 453.]))"
      ]
     },
     "execution_count": 11,
     "metadata": {},
     "output_type": "execute_result"
    }
   ],
   "source": [
    "train[0]"
   ]
  },
  {
   "cell_type": "markdown",
   "metadata": {},
   "source": [
    "# Linear Regression Model"
   ]
  },
  {
   "cell_type": "code",
   "execution_count": 39,
   "metadata": {},
   "outputs": [
    {
     "name": "stdout",
     "output_type": "stream",
     "text": [
      "Mean Squared Error: 32.669257493680284\n"
     ]
    },
    {
     "data": {
      "text/plain": [
       "['./Models/LinearRegression_FeetPredict.pkl']"
      ]
     },
     "execution_count": 39,
     "metadata": {},
     "output_type": "execute_result"
    }
   ],
   "source": [
    "# Prepare data for LinearRegression\n",
    "train_inputs_flat = [train_inputs[index].T[:2].T.flatten() for index in range(len(train_inputs))]\n",
    "train_targets_flat = [train_targets[index].T[:2].T.flatten() for index in range(len(train_targets))]\n",
    "\n",
    "test_inputs_flat = [test_inputs[index].T[:2].T.flatten() for index in range(len(test_inputs))]\n",
    "test_targets_flat = [test_targets[index].T[:2].T.flatten() for index in range(len(test_targets))]\n",
    "\n",
    "# Create and train the model\n",
    "lin_reg_model = LinearRegression()\n",
    "lin_reg_model.fit(train_inputs_flat, train_targets_flat)\n",
    "\n",
    "# Make predictions on the test set\n",
    "predictions = lin_reg_model.predict(test_inputs_flat)\n",
    "\n",
    "# Evaluate the model\n",
    "mse = root_mean_squared_error(test_targets_flat, predictions)\n",
    "print(f'Mean Squared Error: {mse}')\n",
    "\n",
    "# Save the model\n",
    "joblib.dump(lin_reg_model, \"./Models/LinearRegression_FeetPredict.pkl\")"
   ]
  },
  {
   "cell_type": "markdown",
   "metadata": {},
   "source": [
    "# Pytorch model"
   ]
  },
  {
   "cell_type": "code",
   "execution_count": 59,
   "metadata": {},
   "outputs": [],
   "source": [
    "class KeypointPredictor(nn.Module):\n",
    "\tdef __init__(self):\n",
    "\t\tsuper(KeypointPredictor, self).__init__()\n",
    "\t\tself.seq = nn.Sequential(\n",
    "\t\t\tnn.Linear(8, 4)\n",
    "\t\t)\n",
    "\n",
    "\tdef forward(self, x):\n",
    "\t\treturn self.seq(x)"
   ]
  },
  {
   "cell_type": "code",
   "execution_count": 60,
   "metadata": {},
   "outputs": [],
   "source": [
    "device = \"cuda\" if torch.cuda.is_available() else \"cpu\"\n",
    "model = KeypointPredictor().to(device)\n",
    "optimizer = torch.optim.Adam(model.parameters(), lr=0.005)\n",
    "loss_fn = nn.MSELoss()"
   ]
  },
  {
   "cell_type": "code",
   "execution_count": 61,
   "metadata": {},
   "outputs": [],
   "source": [
    "def train(epoch, train_losses):\n",
    "\trunning_loss = 0.0\n",
    "\tmodel.train()\n",
    "\tloop = tqdm(train_loader, leave=False, desc=f\"Epoch {epoch}\")\n",
    "\tfor data, target in loop:\n",
    "\t\tdata, target = data.to(device), target.to(device)\n",
    "\t\tresults = model(data)  # Forward pass\n",
    "\t\toptimizer.zero_grad()\n",
    "\t\tloss = loss_fn(results, target)\n",
    "\t\tloss.backward()  # Back propogation\n",
    "\t\toptimizer.step()\n",
    "\t\tloop.set_postfix(loss=loss.item())\n",
    "\t\trunning_loss += loss.item()\n",
    "\t\t\n",
    "\ttrain_losses.append(running_loss / len(train_loader.dataset))\n",
    "\n",
    "def test(test_losses):\n",
    "\tmodel.eval()\n",
    "\ttest_loss = 0\n",
    "\twith torch.inference_mode():\n",
    "\t\tfor data, target in test_loader:\n",
    "\t\t\tdata, target = data.to(device), target.to(device)\n",
    "\t\t\tresults = model(data)\n",
    "\t\t\ttest_loss += loss_fn(results, target).item()\n",
    "\n",
    "\ttest_loss /= len(test_loader.dataset)\n",
    "\tprint(f\"Test Loss {test_loss}\")\n",
    "\n",
    "\ttest_losses.append(test_loss)"
   ]
  },
  {
   "cell_type": "code",
   "execution_count": 62,
   "metadata": {},
   "outputs": [],
   "source": [
    "train_losses = []\n",
    "test_losses = []"
   ]
  },
  {
   "cell_type": "code",
   "execution_count": 63,
   "metadata": {},
   "outputs": [
    {
     "name": "stderr",
     "output_type": "stream",
     "text": [
      "                                                                           \r"
     ]
    },
    {
     "name": "stdout",
     "output_type": "stream",
     "text": [
      "Test Loss 188.19660557878535\n"
     ]
    },
    {
     "name": "stderr",
     "output_type": "stream",
     "text": [
      "                                                                           \r"
     ]
    },
    {
     "name": "stdout",
     "output_type": "stream",
     "text": [
      "Test Loss 150.9675646550147\n"
     ]
    },
    {
     "name": "stderr",
     "output_type": "stream",
     "text": [
      "                                                                           \r"
     ]
    },
    {
     "name": "stdout",
     "output_type": "stream",
     "text": [
      "Test Loss 146.54932422032235\n"
     ]
    },
    {
     "name": "stderr",
     "output_type": "stream",
     "text": [
      "                                                                           \r"
     ]
    },
    {
     "name": "stdout",
     "output_type": "stream",
     "text": [
      "Test Loss 145.6533569143101\n"
     ]
    },
    {
     "name": "stderr",
     "output_type": "stream",
     "text": [
      "                                                                           \r"
     ]
    },
    {
     "name": "stdout",
     "output_type": "stream",
     "text": [
      "Test Loss 147.59642738718068\n"
     ]
    }
   ],
   "source": [
    "epochs = 5\n",
    "\n",
    "for epoch in range(1, epochs + 1):\n",
    "\ttrain(epoch, train_losses)\n",
    "\ttest(test_losses)\n",
    "\t# if test_loss is minimum, save the model\n",
    "\tif test_losses[-1] <= min(test_losses) and test_losses[-1] < 145.32:\n",
    "\t\ttorch.save(model.state_dict(), \"FeetPredict.pt\")"
   ]
  },
  {
   "cell_type": "markdown",
   "metadata": {},
   "source": [
    "# Plot results DL"
   ]
  },
  {
   "cell_type": "code",
   "execution_count": 53,
   "metadata": {},
   "outputs": [
    {
     "data": {
      "text/plain": [
       "<Axes: >"
      ]
     },
     "execution_count": 53,
     "metadata": {},
     "output_type": "execute_result"
    },
    {
     "data": {
      "image/png": "[encoded data removed]",
      "text/plain": [
       "<Figure size 640x480 with 1 Axes>"
      ]
     },
     "metadata": {},
     "output_type": "display_data"
    }
   ],
   "source": [
    "sns.lineplot(x=range(len(train_losses)), y=train_losses)\n",
    "sns.lineplot(x=range(len(test_losses)), y=test_losses)"
   ]
  }
 ],
 "metadata": {
  "kernelspec": {
   "display_name": "Python 3",
   "language": "python",
   "name": "python3"
  },
  "language_info": {
   "codemirror_mode": {
    "name": "ipython",
    "version": 3
   },
   "file_extension": ".py",
   "mimetype": "text/x-python",
   "name": "python",
   "nbconvert_exporter": "python",
   "pygments_lexer": "ipython3",
   "version": "3.11.6"
  }
 },
 "nbformat": 4,
 "nbformat_minor": 2
}
